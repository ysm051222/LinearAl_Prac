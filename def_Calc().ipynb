{
 "cells": [
  {
   "cell_type": "markdown",
   "id": "3c848e66",
   "metadata": {},
   "source": [
    "# Question.\n",
    "Create a function calc() that takes a positive integer A as input. \n",
    "\n",
    "The function should then accept A additional integers and return their sum."
   ]
  },
  {
   "cell_type": "code",
   "execution_count": 10,
   "id": "40df419f",
   "metadata": {},
   "outputs": [],
   "source": [
    "def calc() :\n",
    "    A = input(\"Insert a positive integer A.\")\n",
    "    output = 0\n",
    "    for i in range(int(A)):\n",
    "        A_input = int(input(\"Insert a integer\"))\n",
    "        output += A_input\n",
    "        print(f\"{int(A)-i} numbers left\")\n",
    "    return output"
   ]
  },
  {
   "cell_type": "code",
   "execution_count": 11,
   "id": "f79d9fc8",
   "metadata": {},
   "outputs": [
    {
     "name": "stdout",
     "output_type": "stream",
     "text": [
      "5 numbers left\n",
      "4 numbers left\n",
      "3 numbers left\n",
      "2 numbers left\n",
      "1 numbers left\n"
     ]
    },
    {
     "data": {
      "text/plain": [
       "43"
      ]
     },
     "execution_count": 11,
     "metadata": {},
     "output_type": "execute_result"
    }
   ],
   "source": [
    "calc()"
   ]
  }
 ],
 "metadata": {
  "kernelspec": {
   "display_name": "Python 3",
   "language": "python",
   "name": "python3"
  },
  "language_info": {
   "codemirror_mode": {
    "name": "ipython",
    "version": 3
   },
   "file_extension": ".py",
   "mimetype": "text/x-python",
   "name": "python",
   "nbconvert_exporter": "python",
   "pygments_lexer": "ipython3",
   "version": "3.12.1"
  }
 },
 "nbformat": 4,
 "nbformat_minor": 5
}
