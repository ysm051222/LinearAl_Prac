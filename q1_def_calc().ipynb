{
 "cells": [
  {
   "cell_type": "markdown",
   "id": "3c848e66",
   "metadata": {},
   "source": [
    "# Question. 1.\n",
    "Create a function calc() that takes a positive integer A as input. \n",
    "\n",
    "The function should then accept A additional integers and return their sum."
   ]
  },
  {
   "cell_type": "code",
   "execution_count": null,
   "id": "40df419f",
   "metadata": {},
   "outputs": [],
   "source": [
    "def calc_1() :\n",
    "    A = input(\"Insert a positive integer A.\")\n",
    "    output = 0\n",
    "    A_str = \"\"\n",
    "    try :\n",
    "        for i in range(int(A)):\n",
    "            A_input = input(\"Insert a integer\")\n",
    "            A_str = A_str + A_input\n",
    "            A_print = \"+\".join(A_str)\n",
    "            print(f\"{int(A)-i} numbers left, received {A_print}\")\n",
    "            output += int(A_input)\n",
    "        return output\n",
    "    except :\n",
    "        print(f\"type error, received {A}\")"
   ]
  },
  {
   "cell_type": "code",
   "execution_count": 36,
   "id": "f79d9fc8",
   "metadata": {},
   "outputs": [
    {
     "name": "stdout",
     "output_type": "stream",
     "text": [
      "5 numbers left, received 4\n",
      "4 numbers left, received 4+3\n",
      "3 numbers left, received 4+3+2\n",
      "2 numbers left, received 4+3+2+1\n",
      "1 numbers left, received 4+3+2+1+5\n"
     ]
    },
    {
     "data": {
      "text/plain": [
       "15"
      ]
     },
     "execution_count": 36,
     "metadata": {},
     "output_type": "execute_result"
    }
   ],
   "source": [
    "calc_1()"
   ]
  }
 ],
 "metadata": {
  "kernelspec": {
   "display_name": "Python 3",
   "language": "python",
   "name": "python3"
  },
  "language_info": {
   "codemirror_mode": {
    "name": "ipython",
    "version": 3
   },
   "file_extension": ".py",
   "mimetype": "text/x-python",
   "name": "python",
   "nbconvert_exporter": "python",
   "pygments_lexer": "ipython3",
   "version": "3.12.1"
  }
 },
 "nbformat": 4,
 "nbformat_minor": 5
}
